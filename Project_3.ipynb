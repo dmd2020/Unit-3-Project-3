{
  "nbformat": 4,
  "nbformat_minor": 0,
  "metadata": {
    "colab": {
      "name": "Project 3",
      "provenance": [],
      "collapsed_sections": []
    },
    "kernelspec": {
      "name": "python3",
      "display_name": "Python 3"
    }
  },
  "cells": [
    {
      "cell_type": "code",
      "metadata": {
        "id": "CZNk7Zi3Htll",
        "colab_type": "code",
        "colab": {
          "base_uri": "https://localhost:8080/",
          "height": 136
        },
        "outputId": "154e2a86-c8e5-49cc-df1f-9fe1ebd2a8a1"
      },
      "source": [
        "import pandas as pd\n",
        "import numpy as np\n",
        "dfexcel= pd.read_excel('https://raw.githubusercontent.com/ArsenioMGonzalez3/Project3_ABDS/master/Open%20Parking%20and%20Camera%20Violations_OH%20NY_2019_2020%20YTD.xlsx')\n",
        "c_dictionary = { 'K' : \"Brooklyn\", 'BK' : \"Brooklyn\", 'Q' : \"Queens\", 'QN' : \"Queens\",\n",
        "                 'NY' : \"Manhattan\", 'MN' : \"Manhattan\", 'R' : \"Staten Island\", 'ST' : \"Staten Island\",\n",
        "                 'BX' : \"Bronx\", '' : \"Blank\"}\n",
        "\n",
        "dfexcel['Borough'] = dfexcel['County'].map(c_dictionary)\n",
        "\n",
        "dfexcel\n",
        "dfexcel.groupby(['Borough'])['Summons Number'].count().sort_values(ascending= False)\n"
      ],
      "execution_count": null,
      "outputs": [
        {
          "output_type": "execute_result",
          "data": {
            "text/plain": [
              "Borough\n",
              "Manhattan        25639\n",
              "Brooklyn         14171\n",
              "Queens           12812\n",
              "Bronx             6824\n",
              "Staten Island     1586\n",
              "Name: Summons Number, dtype: int64"
            ]
          },
          "metadata": {
            "tags": []
          },
          "execution_count": 11
        }
      ]
    },
    {
      "cell_type": "code",
      "metadata": {
        "id": "7e4Tuj_sH82K",
        "colab_type": "code",
        "colab": {
          "base_uri": "https://localhost:8080/",
          "height": 136
        },
        "outputId": "17d1afb0-031d-4ebf-b553-db2f1bd17ebd"
      },
      "source": [
        "dfexcel= pd.read_excel('https://raw.githubusercontent.com/ArsenioMGonzalez3/Project3_ABDS/master/Open%20Parking%20and%20Camera%20Violations_OH%20NY_2019_2020%20YTD.xlsx')\n",
        "dfexcel['year'] = pd.DatetimeIndex(dfexcel['Issue Date']).year\n",
        "dfexcel = dfexcel[dfexcel['year'] == 2020]\n",
        "\n",
        "c_dictionary = { 'K' : \"Brooklyn\", 'BK' : \"Brooklyn\", 'Q' : \"Queens\", 'QN' : \"Queens\",\n",
        "                 'NY' : \"Manhattan\", 'MN' : \"Manhattan\", 'R' : \"Staten Island\", 'ST' : \"Staten Island\",\n",
        "                 'BX' : \"Bronx\", '' : \"Blank\"}\n",
        "\n",
        "dfexcel['Borough'] = dfexcel['County'].map(c_dictionary)\n",
        "dfexcel.groupby(['Borough'])['Summons Number'].count().sort_values(ascending= False)"
      ],
      "execution_count": null,
      "outputs": [
        {
          "output_type": "execute_result",
          "data": {
            "text/plain": [
              "Borough\n",
              "Brooklyn         8195\n",
              "Queens           7258\n",
              "Bronx            3891\n",
              "Manhattan        3373\n",
              "Staten Island    1287\n",
              "Name: Summons Number, dtype: int64"
            ]
          },
          "metadata": {
            "tags": []
          },
          "execution_count": 13
        }
      ]
    },
    {
      "cell_type": "code",
      "metadata": {
        "id": "NpL9hSKKLEno",
        "colab_type": "code",
        "colab": {
          "base_uri": "https://localhost:8080/",
          "height": 136
        },
        "outputId": "cc00afd6-df18-40fe-c953-0072848fab2d"
      },
      "source": [
        "dfexcel= pd.read_excel('https://raw.githubusercontent.com/ArsenioMGonzalez3/Project3_ABDS/master/Open%20Parking%20and%20Camera%20Violations_OH%20NY_2019_2020%20YTD.xlsx')\n",
        "dfexcel['year'] = pd.DatetimeIndex(dfexcel['Issue Date']).year\n",
        "dfexcel = dfexcel[dfexcel['year'] == 2019]\n",
        "\n",
        "c_dictionary = { 'K' : \"Brooklyn\", 'BK' : \"Brooklyn\", 'Q' : \"Queens\", 'QN' : \"Queens\",\n",
        "                 'NY' : \"Manhattan\", 'MN' : \"Manhattan\", 'R' : \"Staten Island\", 'ST' : \"Staten Island\",\n",
        "                 'BX' : \"Bronx\", '' : \"Blank\"}\n",
        "\n",
        "dfexcel['Borough'] = dfexcel['County'].map(c_dictionary)\n",
        "dfexcel.groupby(['Borough'])['Summons Number'].count().sort_values(ascending= False)"
      ],
      "execution_count": null,
      "outputs": [
        {
          "output_type": "execute_result",
          "data": {
            "text/plain": [
              "Borough\n",
              "Manhattan        22266\n",
              "Brooklyn          5976\n",
              "Queens            5554\n",
              "Bronx             2933\n",
              "Staten Island      299\n",
              "Name: Summons Number, dtype: int64"
            ]
          },
          "metadata": {
            "tags": []
          },
          "execution_count": 14
        }
      ]
    },
    {
      "cell_type": "code",
      "metadata": {
        "id": "SbKpesb6PQDl",
        "colab_type": "code",
        "colab": {
          "base_uri": "https://localhost:8080/",
          "height": 381
        },
        "outputId": "de868f6d-5bcf-4ae2-f0bb-cd42b087f87a"
      },
      "source": [
        "import pandas as pd\n",
        "import numpy as np\n",
        "import matplotlib.pyplot as plt\n",
        "%matplotlib inline\n",
        "import seaborn as sns\n",
        "#dfcsv = pd.read_csv('https://raw.githubusercontent.com/ArsenioMGonzalez3/Project3_ABDS/master/Open%20Parking%20and%20Camera%20Violations_OH%20NY_2019_2020%20YTD.csv')\n",
        "dfexcel= pd.read_excel('https://raw.githubusercontent.com/ArsenioMGonzalez3/Project3_ABDS/master/Open%20Parking%20and%20Camera%20Violations_OH%20NY_2019_2020%20YTD.xlsx')\n",
        "c_dictionary = { 'K' : \"Brooklyn\", 'BK' : \"Brooklyn\", 'Q' : \"Queens\", 'QN' : \"Queens\",\n",
        "                 'NY' : \"Manhattan\", 'MN' : \"Manhattan\", 'R' : \"Staten Island\", 'ST' : \"Staten Island\",\n",
        "                 'BX' : \"Bronx\", '' : \"Blank\"}\n",
        "\n",
        "dfexcel['Borough'] = dfexcel['County'].map(c_dictionary)\n",
        "dfexcel['year'] = pd.DatetimeIndex(dfexcel['Issue Date']).year\n",
        "\n",
        "dfexcel.groupby(['Borough'])['Summons Number'].count().sort_values(ascending= False).plot(kind='bar')\n",
        "\n",
        "plt.title ('Summons Totals by County Overall')\n",
        "plt.ylabel('Count of Summons Violations')\n",
        "plt.xlabel('County')\n",
        "\n",
        "\n",
        "plt.show"
      ],
      "execution_count": null,
      "outputs": [
        {
          "output_type": "execute_result",
          "data": {
            "text/plain": [
              "<function matplotlib.pyplot.show>"
            ]
          },
          "metadata": {
            "tags": []
          },
          "execution_count": 31
        },
        {
          "output_type": "display_data",
          "data": {
            "image/png": "[encoded data removed]",
            "text/plain": [
              "<Figure size 432x288 with 1 Axes>"
            ]
          },
          "metadata": {
            "tags": [],
            "needs_background": "light"
          }
        }
      ]
    },
    {
      "cell_type": "code",
      "metadata": {
        "id": "Ai9sm-EOMb1D",
        "colab_type": "code",
        "colab": {
          "base_uri": "https://localhost:8080/",
          "height": 402
        },
        "outputId": "2dedf893-8906-42e8-b0e7-db1b7945b12e"
      },
      "source": [
        "import pandas as pd\n",
        "import numpy as np\n",
        "import matplotlib.pyplot as plt\n",
        "%matplotlib inline\n",
        "import seaborn as sns\n",
        "#dfcsv = pd.read_csv('https://raw.githubusercontent.com/ArsenioMGonzalez3/Project3_ABDS/master/Open%20Parking%20and%20Camera%20Violations_OH%20NY_2019_2020%20YTD.csv')\n",
        "dfexcel= pd.read_excel('https://raw.githubusercontent.com/ArsenioMGonzalez3/Project3_ABDS/master/Open%20Parking%20and%20Camera%20Violations_OH%20NY_2019_2020%20YTD.xlsx')\n",
        "dfexcel['year'] = pd.DatetimeIndex(dfexcel['Issue Date']).year\n",
        "dfexcel = dfexcel[(dfexcel['year'] == 2020)]\n",
        "c_dictionary = { 'K' : \"Brooklyn\", 'BK' : \"Brooklyn\", 'Q' : \"Queens\", 'QN' : \"Queens\",\n",
        "                 'NY' : \"Manhattan\", 'MN' : \"Manhattan\", 'R' : \"Staten Island\", 'ST' : \"Staten Island\", 'BX' : \"Bronx\", '' : \"Blank\"}\n",
        "dfexcel['Borough'] = dfexcel['County'].map(c_dictionary)\n",
        "dfexcel.groupby(['Borough'])['Summons Number'].count().sort_values(ascending= False).plot(kind='bar')\n",
        "dfexcel = dfexcel[(dfexcel['year'] == 2020)]\n",
        "plt.title ('Summons Totals by County for 2020')\n",
        "plt.ylabel('Count of Summons Violations')\n",
        "plt.xlabel('County')\n",
        "\n",
        "\n",
        "plt.show"
      ],
      "execution_count": null,
      "outputs": [
        {
          "output_type": "stream",
          "text": [
            "/usr/local/lib/python3.6/dist-packages/statsmodels/tools/_testing.py:19: FutureWarning: pandas.util.testing is deprecated. Use the functions in the public API at pandas.testing instead.\n",
            "  import pandas.util.testing as tm\n"
          ],
          "name": "stderr"
        },
        {
          "output_type": "execute_result",
          "data": {
            "text/plain": [
              "<function matplotlib.pyplot.show>"
            ]
          },
          "metadata": {
            "tags": []
          },
          "execution_count": 1
        },
        {
          "output_type": "display_data",
          "data": {
            "image/png": "[encoded data removed]",
            "text/plain": [
              "<Figure size 432x288 with 1 Axes>"
            ]
          },
          "metadata": {
            "tags": [],
            "needs_background": "light"
          }
        }
      ]
    },
    {
      "cell_type": "code",
      "metadata": {
        "id": "hMaL_BilM6gm",
        "colab_type": "code",
        "colab": {
          "base_uri": "https://localhost:8080/",
          "height": 381
        },
        "outputId": "fda13851-4686-4ce2-9944-d6c304320cb8"
      },
      "source": [
        "import pandas as pd\n",
        "import numpy as np\n",
        "import matplotlib.pyplot as plt\n",
        "%matplotlib inline\n",
        "import seaborn as sns\n",
        "#dfcsv = pd.read_csv('https://raw.githubusercontent.com/ArsenioMGonzalez3/Project3_ABDS/master/Open%20Parking%20and%20Camera%20Violations_OH%20NY_2019_2020%20YTD.csv')\n",
        "dfexcel= pd.read_excel('https://raw.githubusercontent.com/ArsenioMGonzalez3/Project3_ABDS/master/Open%20Parking%20and%20Camera%20Violations_OH%20NY_2019_2020%20YTD.xlsx')\n",
        "dfexcel['year'] = pd.DatetimeIndex(dfexcel['Issue Date']).year\n",
        "dfexcel = dfexcel[(dfexcel['year'] == 2019)]\n",
        "c_dictionary = { 'K' : \"Brooklyn\", 'BK' : \"Brooklyn\", 'Q' : \"Queens\", 'QN' : \"Queens\",\n",
        "                 'NY' : \"Manhattan\", 'MN' : \"Manhattan\", 'R' : \"Staten Island\", 'ST' : \"Staten Island\",\n",
        "                 'BX' : \"Bronx\", '' : \"Blank\"}\n",
        "dfexcel['Borough'] = dfexcel['County'].map(c_dictionary)\n",
        "dfexcel.groupby(['Borough'])['Summons Number'].count().sort_values(ascending= False).plot(kind='bar')\n",
        "plt.title ('Summons Totals by County for 2019')\n",
        "plt.ylabel('Count of Summons Violations')\n",
        "plt.xlabel('County')\n",
        "\n",
        "\n",
        "plt.show"
      ],
      "execution_count": null,
      "outputs": [
        {
          "output_type": "execute_result",
          "data": {
            "text/plain": [
              "<function matplotlib.pyplot.show>"
            ]
          },
          "metadata": {
            "tags": []
          },
          "execution_count": 35
        },
        {
          "output_type": "display_data",
          "data": {
            "image/png": "[encoded data removed]",
            "text/plain": [
              "<Figure size 432x288 with 1 Axes>"
            ]
          },
          "metadata": {
            "tags": [],
            "needs_background": "light"
          }
        }
      ]
    }
  ]
}